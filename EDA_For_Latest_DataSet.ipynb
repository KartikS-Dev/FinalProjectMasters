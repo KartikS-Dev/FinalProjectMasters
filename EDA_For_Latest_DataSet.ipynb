{
 "cells": [
  {
   "cell_type": "code",
   "execution_count": 1,
   "id": "ecc5cd9a",
   "metadata": {},
   "outputs": [],
   "source": [
    "import pandas as pd\n",
    "import numpy as np\n",
    "import warnings\n",
    "warnings.filterwarnings(\"ignore\") \n",
    "\n",
    "import os\n",
    "item_lst = os.listdir()"
   ]
  },
  {
   "cell_type": "code",
   "execution_count": 2,
   "id": "a5f1dfac",
   "metadata": {},
   "outputs": [],
   "source": [
    "path = \"C:/Users/offic/OneDrive/Documents/NationalCollegeOfIreland/GitRepo/NCI ALL Data/National-College-Of-Ireland/RIC/Project/CarReviewsLatestDataSet/\""
   ]
  },
  {
   "cell_type": "code",
   "execution_count": 3,
   "id": "fe1f7ba3",
   "metadata": {},
   "outputs": [],
   "source": [
    "item_lst = os.listdir(path)"
   ]
  },
  {
   "cell_type": "code",
   "execution_count": 4,
   "id": "be6648d4",
   "metadata": {},
   "outputs": [
    {
     "name": "stdout",
     "output_type": "stream",
     "text": [
      "C:/Users/offic/OneDrive/Documents/NationalCollegeOfIreland/GitRepo/NCI ALL Data/National-College-Of-Ireland/RIC/Project/CarReviewsLatestDataSet/Car_Reviews_Database.csv\n"
     ]
    }
   ],
   "source": [
    "reviewDataSet  = pd.DataFrame()\n",
    "print(path+item_lst[0])"
   ]
  },
  {
   "cell_type": "code",
   "execution_count": 5,
   "id": "9041bfae",
   "metadata": {},
   "outputs": [],
   "source": [
    "tempDataSet = pd.read_csv(path+item_lst[0],encoding= 'unicode_escape')\n",
    "reviewDataSet = reviewDataSet.append(tempDataSet,ignore_index=True)"
   ]
  },
  {
   "cell_type": "code",
   "execution_count": 6,
   "id": "548bf82e",
   "metadata": {},
   "outputs": [
    {
     "data": {
      "text/html": [
       "<div>\n",
       "<style scoped>\n",
       "    .dataframe tbody tr th:only-of-type {\n",
       "        vertical-align: middle;\n",
       "    }\n",
       "\n",
       "    .dataframe tbody tr th {\n",
       "        vertical-align: top;\n",
       "    }\n",
       "\n",
       "    .dataframe thead th {\n",
       "        text-align: right;\n",
       "    }\n",
       "</style>\n",
       "<table border=\"1\" class=\"dataframe\">\n",
       "  <thead>\n",
       "    <tr style=\"text-align: right;\">\n",
       "      <th></th>\n",
       "      <th>Year</th>\n",
       "      <th>Model</th>\n",
       "      <th>Review</th>\n",
       "    </tr>\n",
       "  </thead>\n",
       "  <tbody>\n",
       "    <tr>\n",
       "      <th>0</th>\n",
       "      <td>2009</td>\n",
       "      <td>Honda</td>\n",
       "      <td>Although arguably the first-generation Insight...</td>\n",
       "    </tr>\n",
       "    <tr>\n",
       "      <th>1</th>\n",
       "      <td>2009</td>\n",
       "      <td>Honda</td>\n",
       "      <td>2009 Honda Accord EX-L 4  : This car is very c...</td>\n",
       "    </tr>\n",
       "    <tr>\n",
       "      <th>2</th>\n",
       "      <td>2010</td>\n",
       "      <td>Honda</td>\n",
       "      <td>I have owed and driven Honda products for 20 y...</td>\n",
       "    </tr>\n",
       "    <tr>\n",
       "      <th>3</th>\n",
       "      <td>2010</td>\n",
       "      <td>Honda</td>\n",
       "      <td>Honda Accord Euro L : The seats are average, b...</td>\n",
       "    </tr>\n",
       "    <tr>\n",
       "      <th>4</th>\n",
       "      <td>2011</td>\n",
       "      <td>Honda</td>\n",
       "      <td>Honda HR-V: Continuous variable transmission ...</td>\n",
       "    </tr>\n",
       "    <tr>\n",
       "      <th>...</th>\n",
       "      <td>...</td>\n",
       "      <td>...</td>\n",
       "      <td>...</td>\n",
       "    </tr>\n",
       "    <tr>\n",
       "      <th>273</th>\n",
       "      <td>2019</td>\n",
       "      <td>Honda</td>\n",
       "      <td>Honda Civic EX: Very clever design and very sp...</td>\n",
       "    </tr>\n",
       "    <tr>\n",
       "      <th>274</th>\n",
       "      <td>2019</td>\n",
       "      <td>Hyundai</td>\n",
       "      <td>Hyundai Sonata 2.4: Large car and spacious car...</td>\n",
       "    </tr>\n",
       "    <tr>\n",
       "      <th>275</th>\n",
       "      <td>2019</td>\n",
       "      <td>Genesis</td>\n",
       "      <td>If you can deal with (or prefer?) rear-wheel d...</td>\n",
       "    </tr>\n",
       "    <tr>\n",
       "      <th>276</th>\n",
       "      <td>2019</td>\n",
       "      <td>Ford</td>\n",
       "      <td>Ford Escape XLT 2.5 : I really didn't want to...</td>\n",
       "    </tr>\n",
       "    <tr>\n",
       "      <th>277</th>\n",
       "      <td>2019</td>\n",
       "      <td>BMW</td>\n",
       "      <td>The BMW 3 Series is known as a driver's car, a...</td>\n",
       "    </tr>\n",
       "  </tbody>\n",
       "</table>\n",
       "<p>278 rows × 3 columns</p>\n",
       "</div>"
      ],
      "text/plain": [
       "     Year   Model                                              Review\n",
       "0    2009    Honda  Although arguably the first-generation Insight...\n",
       "1    2009    Honda  2009 Honda Accord EX-L 4  : This car is very c...\n",
       "2    2010    Honda  I have owed and driven Honda products for 20 y...\n",
       "3    2010    Honda  Honda Accord Euro L : The seats are average, b...\n",
       "4    2011    Honda   Honda HR-V: Continuous variable transmission ...\n",
       "..    ...      ...                                                ...\n",
       "273  2019   Honda   Honda Civic EX: Very clever design and very sp...\n",
       "274  2019  Hyundai  Hyundai Sonata 2.4: Large car and spacious car...\n",
       "275  2019  Genesis  If you can deal with (or prefer?) rear-wheel d...\n",
       "276  2019     Ford   Ford Escape XLT 2.5 : I really didn't want to...\n",
       "277  2019      BMW  The BMW 3 Series is known as a driver's car, a...\n",
       "\n",
       "[278 rows x 3 columns]"
      ]
     },
     "execution_count": 6,
     "metadata": {},
     "output_type": "execute_result"
    }
   ],
   "source": [
    "reviewDataSet"
   ]
  },
  {
   "cell_type": "code",
   "execution_count": 7,
   "id": "97da089c",
   "metadata": {},
   "outputs": [
    {
     "data": {
      "text/plain": [
       "Year       0\n",
       "Model      0\n",
       "Review    44\n",
       "dtype: int64"
      ]
     },
     "execution_count": 7,
     "metadata": {},
     "output_type": "execute_result"
    }
   ],
   "source": [
    "reviewDataSet.isna().sum()"
   ]
  },
  {
   "cell_type": "code",
   "execution_count": 8,
   "id": "e2c2b858",
   "metadata": {},
   "outputs": [],
   "source": [
    "reviewDataSet = reviewDataSet.dropna()"
   ]
  },
  {
   "cell_type": "code",
   "execution_count": 9,
   "id": "8fc8d520",
   "metadata": {},
   "outputs": [
    {
     "data": {
      "text/html": [
       "<div>\n",
       "<style scoped>\n",
       "    .dataframe tbody tr th:only-of-type {\n",
       "        vertical-align: middle;\n",
       "    }\n",
       "\n",
       "    .dataframe tbody tr th {\n",
       "        vertical-align: top;\n",
       "    }\n",
       "\n",
       "    .dataframe thead th {\n",
       "        text-align: right;\n",
       "    }\n",
       "</style>\n",
       "<table border=\"1\" class=\"dataframe\">\n",
       "  <thead>\n",
       "    <tr style=\"text-align: right;\">\n",
       "      <th></th>\n",
       "      <th>Year</th>\n",
       "      <th>Model</th>\n",
       "      <th>Review</th>\n",
       "    </tr>\n",
       "  </thead>\n",
       "  <tbody>\n",
       "    <tr>\n",
       "      <th>0</th>\n",
       "      <td>2009</td>\n",
       "      <td>Honda</td>\n",
       "      <td>Although arguably the first-generation Insight...</td>\n",
       "    </tr>\n",
       "    <tr>\n",
       "      <th>1</th>\n",
       "      <td>2009</td>\n",
       "      <td>Honda</td>\n",
       "      <td>2009 Honda Accord EX-L 4  : This car is very c...</td>\n",
       "    </tr>\n",
       "    <tr>\n",
       "      <th>2</th>\n",
       "      <td>2010</td>\n",
       "      <td>Honda</td>\n",
       "      <td>I have owed and driven Honda products for 20 y...</td>\n",
       "    </tr>\n",
       "    <tr>\n",
       "      <th>3</th>\n",
       "      <td>2010</td>\n",
       "      <td>Honda</td>\n",
       "      <td>Honda Accord Euro L : The seats are average, b...</td>\n",
       "    </tr>\n",
       "    <tr>\n",
       "      <th>4</th>\n",
       "      <td>2011</td>\n",
       "      <td>Honda</td>\n",
       "      <td>Honda HR-V: Continuous variable transmission ...</td>\n",
       "    </tr>\n",
       "    <tr>\n",
       "      <th>...</th>\n",
       "      <td>...</td>\n",
       "      <td>...</td>\n",
       "      <td>...</td>\n",
       "    </tr>\n",
       "    <tr>\n",
       "      <th>273</th>\n",
       "      <td>2019</td>\n",
       "      <td>Honda</td>\n",
       "      <td>Honda Civic EX: Very clever design and very sp...</td>\n",
       "    </tr>\n",
       "    <tr>\n",
       "      <th>274</th>\n",
       "      <td>2019</td>\n",
       "      <td>Hyundai</td>\n",
       "      <td>Hyundai Sonata 2.4: Large car and spacious car...</td>\n",
       "    </tr>\n",
       "    <tr>\n",
       "      <th>275</th>\n",
       "      <td>2019</td>\n",
       "      <td>Genesis</td>\n",
       "      <td>If you can deal with (or prefer?) rear-wheel d...</td>\n",
       "    </tr>\n",
       "    <tr>\n",
       "      <th>276</th>\n",
       "      <td>2019</td>\n",
       "      <td>Ford</td>\n",
       "      <td>Ford Escape XLT 2.5 : I really didn't want to...</td>\n",
       "    </tr>\n",
       "    <tr>\n",
       "      <th>277</th>\n",
       "      <td>2019</td>\n",
       "      <td>BMW</td>\n",
       "      <td>The BMW 3 Series is known as a driver's car, a...</td>\n",
       "    </tr>\n",
       "  </tbody>\n",
       "</table>\n",
       "<p>234 rows × 3 columns</p>\n",
       "</div>"
      ],
      "text/plain": [
       "     Year   Model                                              Review\n",
       "0    2009    Honda  Although arguably the first-generation Insight...\n",
       "1    2009    Honda  2009 Honda Accord EX-L 4  : This car is very c...\n",
       "2    2010    Honda  I have owed and driven Honda products for 20 y...\n",
       "3    2010    Honda  Honda Accord Euro L : The seats are average, b...\n",
       "4    2011    Honda   Honda HR-V: Continuous variable transmission ...\n",
       "..    ...      ...                                                ...\n",
       "273  2019   Honda   Honda Civic EX: Very clever design and very sp...\n",
       "274  2019  Hyundai  Hyundai Sonata 2.4: Large car and spacious car...\n",
       "275  2019  Genesis  If you can deal with (or prefer?) rear-wheel d...\n",
       "276  2019     Ford   Ford Escape XLT 2.5 : I really didn't want to...\n",
       "277  2019      BMW  The BMW 3 Series is known as a driver's car, a...\n",
       "\n",
       "[234 rows x 3 columns]"
      ]
     },
     "execution_count": 9,
     "metadata": {},
     "output_type": "execute_result"
    }
   ],
   "source": [
    "reviewDataSet"
   ]
  },
  {
   "cell_type": "code",
   "execution_count": 10,
   "id": "d4338e82",
   "metadata": {},
   "outputs": [],
   "source": [
    "reviewDataSet.to_csv('LatestCleanedDataSet.csv',index=False)"
   ]
  },
  {
   "cell_type": "code",
   "execution_count": null,
   "id": "e7e712d7",
   "metadata": {},
   "outputs": [],
   "source": []
  }
 ],
 "metadata": {
  "kernelspec": {
   "display_name": "Python 3 (ipykernel)",
   "language": "python",
   "name": "python3"
  },
  "language_info": {
   "codemirror_mode": {
    "name": "ipython",
    "version": 3
   },
   "file_extension": ".py",
   "mimetype": "text/x-python",
   "name": "python",
   "nbconvert_exporter": "python",
   "pygments_lexer": "ipython3",
   "version": "3.9.7"
  }
 },
 "nbformat": 4,
 "nbformat_minor": 5
}
